{
  "nbformat": 4,
  "nbformat_minor": 0,
  "metadata": {
    "colab": {
      "name": "WordToVec.ipynb",
      "provenance": [],
      "collapsed_sections": [],
      "mount_file_id": "1makokiOwFAG3YG3IZh6FxcCaOGus5eD8",
      "authorship_tag": "ABX9TyMzbh7HzYn1GmkpbubN5wbk"
    },
    "kernelspec": {
      "name": "python3",
      "display_name": "Python 3"
    },
    "language_info": {
      "name": "python"
    },
    "accelerator": "GPU"
  },
  "cells": [
    {
      "cell_type": "code",
      "metadata": {
        "colab": {
          "base_uri": "https://localhost:8080/"
        },
        "id": "ngHj9u_Hgt_U",
        "outputId": "850f0016-d0f9-4069-a2e4-fab2b4a3ce5f"
      },
      "source": [
        "!pip install gensim\n",
        "!pip install python-Levenshtein"
      ],
      "execution_count": 1,
      "outputs": [
        {
          "output_type": "stream",
          "text": [
            "Requirement already satisfied: gensim in /usr/local/lib/python3.7/dist-packages (3.6.0)\n",
            "Requirement already satisfied: scipy>=0.18.1 in /usr/local/lib/python3.7/dist-packages (from gensim) (1.4.1)\n",
            "Requirement already satisfied: six>=1.5.0 in /usr/local/lib/python3.7/dist-packages (from gensim) (1.15.0)\n",
            "Requirement already satisfied: smart-open>=1.2.1 in /usr/local/lib/python3.7/dist-packages (from gensim) (5.1.0)\n",
            "Requirement already satisfied: numpy>=1.11.3 in /usr/local/lib/python3.7/dist-packages (from gensim) (1.19.5)\n",
            "Collecting python-Levenshtein\n",
            "\u001b[?25l  Downloading https://files.pythonhosted.org/packages/2a/dc/97f2b63ef0fa1fd78dcb7195aca577804f6b2b51e712516cc0e902a9a201/python-Levenshtein-0.12.2.tar.gz (50kB)\n",
            "\u001b[K     |████████████████████████████████| 51kB 4.2MB/s \n",
            "\u001b[?25hRequirement already satisfied: setuptools in /usr/local/lib/python3.7/dist-packages (from python-Levenshtein) (57.0.0)\n",
            "Building wheels for collected packages: python-Levenshtein\n",
            "  Building wheel for python-Levenshtein (setup.py) ... \u001b[?25l\u001b[?25hdone\n",
            "  Created wheel for python-Levenshtein: filename=python_Levenshtein-0.12.2-cp37-cp37m-linux_x86_64.whl size=149806 sha256=9ab0428a0fbb139f21c9d7c285bbed04742cafb0f6154babaab6f30cc2c8975a\n",
            "  Stored in directory: /root/.cache/pip/wheels/b3/26/73/4b48503bac73f01cf18e52cd250947049a7f339e940c5df8fc\n",
            "Successfully built python-Levenshtein\n",
            "Installing collected packages: python-Levenshtein\n",
            "Successfully installed python-Levenshtein-0.12.2\n"
          ],
          "name": "stdout"
        }
      ]
    },
    {
      "cell_type": "code",
      "metadata": {
        "id": "XRbvhYOmjDl_"
      },
      "source": [
        "import gensim\n",
        "import pandas as pd"
      ],
      "execution_count": 2,
      "outputs": []
    },
    {
      "cell_type": "code",
      "metadata": {
        "colab": {
          "base_uri": "https://localhost:8080/",
          "height": 407
        },
        "id": "4VvedwlljJJ2",
        "outputId": "25e6fc3f-4010-4fd7-85ac-4d9f89541c4d"
      },
      "source": [
        "df = pd.read_csv('/content/drive/MyDrive/Colab Notebooks/Final.csv', names = ['headlines', 'dates'], encoding = \"ISO-8859-1\")\n",
        "df"
      ],
      "execution_count": 4,
      "outputs": [
        {
          "output_type": "execute_result",
          "data": {
            "text/html": [
              "<div>\n",
              "<style scoped>\n",
              "    .dataframe tbody tr th:only-of-type {\n",
              "        vertical-align: middle;\n",
              "    }\n",
              "\n",
              "    .dataframe tbody tr th {\n",
              "        vertical-align: top;\n",
              "    }\n",
              "\n",
              "    .dataframe thead th {\n",
              "        text-align: right;\n",
              "    }\n",
              "</style>\n",
              "<table border=\"1\" class=\"dataframe\">\n",
              "  <thead>\n",
              "    <tr style=\"text-align: right;\">\n",
              "      <th></th>\n",
              "      <th>headlines</th>\n",
              "      <th>dates</th>\n",
              "    </tr>\n",
              "  </thead>\n",
              "  <tbody>\n",
              "    <tr>\n",
              "      <th>0</th>\n",
              "      <td>Reliance Industries  Announcement under Regula...</td>\n",
              "      <td>15-Jun-21</td>\n",
              "    </tr>\n",
              "    <tr>\n",
              "      <th>1</th>\n",
              "      <td>Jio kicks off 5G field trial with own equipmen...</td>\n",
              "      <td>15-Jun-21</td>\n",
              "    </tr>\n",
              "    <tr>\n",
              "      <th>2</th>\n",
              "      <td>Nifty50, Sensex close at record highs led by p...</td>\n",
              "      <td>15-Jun-21</td>\n",
              "    </tr>\n",
              "    <tr>\n",
              "      <th>3</th>\n",
              "      <td>Sensex scales new all-time high; Strides Pharm...</td>\n",
              "      <td>15-Jun-21</td>\n",
              "    </tr>\n",
              "    <tr>\n",
              "      <th>4</th>\n",
              "      <td>Buy Reliance Industries, target price Rs 2375:...</td>\n",
              "      <td>15-Jun-21</td>\n",
              "    </tr>\n",
              "    <tr>\n",
              "      <th>...</th>\n",
              "      <td>...</td>\n",
              "      <td>...</td>\n",
              "    </tr>\n",
              "    <tr>\n",
              "      <th>23812</th>\n",
              "      <td>Late recovery on Lyons Range</td>\n",
              "      <td>07-Feb-00</td>\n",
              "    </tr>\n",
              "    <tr>\n",
              "      <th>23813</th>\n",
              "      <td>More than their due</td>\n",
              "      <td>06-Feb-00</td>\n",
              "    </tr>\n",
              "    <tr>\n",
              "      <th>23814</th>\n",
              "      <td>Entering the information age</td>\n",
              "      <td>05-Feb-00</td>\n",
              "    </tr>\n",
              "    <tr>\n",
              "      <th>23815</th>\n",
              "      <td>FDI worth Rs. 402 cr. cleared</td>\n",
              "      <td>04-Feb-00</td>\n",
              "    </tr>\n",
              "    <tr>\n",
              "      <th>23816</th>\n",
              "      <td>Centre working for 'zero' sales tax on IT prod...</td>\n",
              "      <td>03-Feb-00</td>\n",
              "    </tr>\n",
              "  </tbody>\n",
              "</table>\n",
              "<p>23817 rows × 2 columns</p>\n",
              "</div>"
            ],
            "text/plain": [
              "                                               headlines      dates\n",
              "0      Reliance Industries  Announcement under Regula...  15-Jun-21\n",
              "1      Jio kicks off 5G field trial with own equipmen...  15-Jun-21\n",
              "2      Nifty50, Sensex close at record highs led by p...  15-Jun-21\n",
              "3      Sensex scales new all-time high; Strides Pharm...  15-Jun-21\n",
              "4      Buy Reliance Industries, target price Rs 2375:...  15-Jun-21\n",
              "...                                                  ...        ...\n",
              "23812                       Late recovery on Lyons Range  07-Feb-00\n",
              "23813                                More than their due  06-Feb-00\n",
              "23814                       Entering the information age  05-Feb-00\n",
              "23815                      FDI worth Rs. 402 cr. cleared  04-Feb-00\n",
              "23816  Centre working for 'zero' sales tax on IT prod...  03-Feb-00\n",
              "\n",
              "[23817 rows x 2 columns]"
            ]
          },
          "metadata": {
            "tags": []
          },
          "execution_count": 4
        }
      ]
    },
    {
      "cell_type": "code",
      "metadata": {
        "colab": {
          "base_uri": "https://localhost:8080/"
        },
        "id": "UgvKI2SrkWC9",
        "outputId": "d40c994b-f316-4a95-ec97-72f6b2edbda2"
      },
      "source": [
        "df.shape"
      ],
      "execution_count": 5,
      "outputs": [
        {
          "output_type": "execute_result",
          "data": {
            "text/plain": [
              "(23817, 2)"
            ]
          },
          "metadata": {
            "tags": []
          },
          "execution_count": 5
        }
      ]
    },
    {
      "cell_type": "code",
      "metadata": {
        "id": "fGNDQiJakblJ"
      },
      "source": [
        "newHeadlines = df.headlines.apply(gensim.utils.simple_preprocess)"
      ],
      "execution_count": 7,
      "outputs": []
    },
    {
      "cell_type": "code",
      "metadata": {
        "colab": {
          "base_uri": "https://localhost:8080/"
        },
        "id": "x-_v-M68kxhz",
        "outputId": "bb94d1c1-c23f-4891-e5c4-5571e39d7f13"
      },
      "source": [
        "newHeadlines"
      ],
      "execution_count": 8,
      "outputs": [
        {
          "output_type": "execute_result",
          "data": {
            "text/plain": [
              "0        [reliance, industries, announcement, under, re...\n",
              "1        [jio, kicks, off, field, trial, with, own, equ...\n",
              "2        [nifty, sensex, close, at, record, highs, led,...\n",
              "3        [sensex, scales, new, all, time, high, strides...\n",
              "4        [buy, reliance, industries, target, price, rs,...\n",
              "                               ...                        \n",
              "23812                   [late, recovery, on, lyons, range]\n",
              "23813                             [more, than, their, due]\n",
              "23814                    [entering, the, information, age]\n",
              "23815                        [fdi, worth, rs, cr, cleared]\n",
              "23816    [centre, working, for, zero, sales, tax, on, i...\n",
              "Name: headlines, Length: 23817, dtype: object"
            ]
          },
          "metadata": {
            "tags": []
          },
          "execution_count": 8
        }
      ]
    },
    {
      "cell_type": "code",
      "metadata": {
        "colab": {
          "base_uri": "https://localhost:8080/"
        },
        "id": "NHAwKi5gk2pq",
        "outputId": "c3076276-588d-44fa-95a8-ace6609cd5d6"
      },
      "source": [
        "newHeadlines.loc[0]"
      ],
      "execution_count": 9,
      "outputs": [
        {
          "output_type": "execute_result",
          "data": {
            "text/plain": [
              "['reliance',\n",
              " 'industries',\n",
              " 'announcement',\n",
              " 'under',\n",
              " 'regulation',\n",
              " 'lodr',\n",
              " 'analyst',\n",
              " 'investor',\n",
              " 'meet',\n",
              " 'outcome']"
            ]
          },
          "metadata": {
            "tags": []
          },
          "execution_count": 9
        }
      ]
    },
    {
      "cell_type": "code",
      "metadata": {
        "colab": {
          "base_uri": "https://localhost:8080/",
          "height": 35
        },
        "id": "2Akx_zbAk8cf",
        "outputId": "a04e85da-6fe4-41fe-ff93-7b34a311235d"
      },
      "source": [
        "df.headlines.loc[0]"
      ],
      "execution_count": 11,
      "outputs": [
        {
          "output_type": "execute_result",
          "data": {
            "application/vnd.google.colaboratory.intrinsic+json": {
              "type": "string"
            },
            "text/plain": [
              "'Reliance Industries  Announcement under Regulation 30 (LODR)-Analyst / Investor Meet - Outcome'"
            ]
          },
          "metadata": {
            "tags": []
          },
          "execution_count": 11
        }
      ]
    },
    {
      "cell_type": "code",
      "metadata": {
        "id": "Pqj41gYClLfS"
      },
      "source": [
        "model = gensim.models.Word2Vec(\n",
        "    window=5,\n",
        "    min_count=2,\n",
        "    workers=4,\n",
        ")"
      ],
      "execution_count": 12,
      "outputs": []
    },
    {
      "cell_type": "code",
      "metadata": {
        "id": "W2oU-Wr4m62t"
      },
      "source": [
        "model.build_vocab(newHeadlines, progress_per=1000)"
      ],
      "execution_count": 14,
      "outputs": []
    },
    {
      "cell_type": "code",
      "metadata": {
        "colab": {
          "base_uri": "https://localhost:8080/"
        },
        "id": "LKT0Ooy0nB5W",
        "outputId": "2d08b586-ee1a-43e2-f7c0-9cfd09e523e1"
      },
      "source": [
        "model.train(newHeadlines, total_examples=model.corpus_count, epochs=model.epochs)"
      ],
      "execution_count": 17,
      "outputs": [
        {
          "output_type": "execute_result",
          "data": {
            "text/plain": [
              "(755016, 965145)"
            ]
          },
          "metadata": {
            "tags": []
          },
          "execution_count": 17
        }
      ]
    },
    {
      "cell_type": "code",
      "metadata": {
        "id": "v3HLhuWKnVAP"
      },
      "source": [
        "model.save(\"/content/drive/MyDrive/Colab Notebooks/Headlines.model\")"
      ],
      "execution_count": 18,
      "outputs": []
    }
  ]
}