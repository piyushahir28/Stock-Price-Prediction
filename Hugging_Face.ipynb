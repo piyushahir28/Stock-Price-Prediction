{
  "nbformat": 4,
  "nbformat_minor": 0,
  "metadata": {
    "colab": {
      "name": "Hugging-Face.ipynb",
      "provenance": [],
      "authorship_tag": "ABX9TyOAB55W8ORqXBSV9tkBwvZ3",
      "include_colab_link": true
    },
    "kernelspec": {
      "name": "python3",
      "display_name": "Python 3"
    },
    "language_info": {
      "name": "python"
    }
  },
  "cells": [
    {
      "cell_type": "markdown",
      "metadata": {
        "id": "view-in-github",
        "colab_type": "text"
      },
      "source": [
        "<a href=\"https://colab.research.google.com/github/piyushahir28/Stock-Price-Prediction/blob/main/Hugging_Face.ipynb\" target=\"_parent\"><img src=\"https://colab.research.google.com/assets/colab-badge.svg\" alt=\"Open In Colab\"/></a>"
      ]
    },
    {
      "cell_type": "code",
      "metadata": {
        "id": "a_Wsyf1glMRE"
      },
      "source": [
        "pip install transformers"
      ],
      "execution_count": null,
      "outputs": []
    },
    {
      "cell_type": "code",
      "metadata": {
        "id": "nMMGH1AUJoW3"
      },
      "source": [
        "from bs4 import *\n",
        "from transformers import pipelines\n",
        "import requests"
      ],
      "execution_count": null,
      "outputs": []
    },
    {
      "cell_type": "code",
      "metadata": {
        "id": "71HJPaY_oQin"
      },
      "source": [
        "url = requests.get('https://indianexpress.com/todays-paper/')"
      ],
      "execution_count": null,
      "outputs": []
    },
    {
      "cell_type": "code",
      "metadata": {
        "colab": {
          "base_uri": "https://localhost:8080/"
        },
        "id": "1oOJfzCspAaP",
        "outputId": "1751f944-4aef-443d-f9c5-553384915297"
      },
      "source": [
        "url"
      ],
      "execution_count": null,
      "outputs": [
        {
          "output_type": "execute_result",
          "data": {
            "text/plain": [
              "<Response [200]>"
            ]
          },
          "metadata": {
            "tags": []
          },
          "execution_count": 75
        }
      ]
    },
    {
      "cell_type": "code",
      "metadata": {
        "id": "sXE1C1c8pr7_"
      },
      "source": [
        "headline = []\n",
        "content = url.content\n",
        "soup = BeautifulSoup(content)\n",
        "all_news = soup.find('div', class_='section')\n",
        "heads = all_news.find_all('li')\n",
        "for head in heads:\n",
        "  headtag = head.find('strong')\n",
        "  head = headtag.find('a')\n",
        "  for x in head:\n",
        "    headline.append(x)\n"
      ],
      "execution_count": null,
      "outputs": []
    },
    {
      "cell_type": "code",
      "metadata": {
        "colab": {
          "base_uri": "https://localhost:8080/"
        },
        "id": "SogJWWeI7gkY",
        "outputId": "bc17e506-c17e-4c3a-eb3f-9f3e66385c8e"
      },
      "source": [
        "classifier = pipeline(\"sentiment-analysis\")\n",
        "for News in headline:\n",
        "  sentanalys = classifier(News)[0]\n",
        "  print(\" News : \",News,\"\\n\",f\"label: {sentanalys['label']}, with score: {round(sentanalys['score'], 4)}\")"
      ],
      "execution_count": null,
      "outputs": [
        {
          "output_type": "stream",
          "text": [
            " News :  Sikh leaders protest over ‘forced conversions, marriages’ in Valley \n",
            " label: NEGATIVE, with score: 0.9789\n",
            " News :  How independent are Independent Directors of PSUs? Half from BJP \n",
            " label: NEGATIVE, with score: 0.9982\n",
            " News :  Jaish’s hand in killing of SPO, his daughter and wife in Pulwama:... \n",
            " label: NEGATIVE, with score: 0.9046\n",
            " News :  Rajnath in Ladakh: Neighbours can talk, need pure intentions \n",
            " label: POSITIVE, with score: 0.9094\n",
            " News :  Govt decides: Twitter no longer enjoys ‘safe harbour’ protection \n",
            " label: NEGATIVE, with score: 0.9992\n",
            " News :  In Nov, Amarinder had flagged the threat from drones in Punjab to... \n",
            " label: NEGATIVE, with score: 0.9893\n",
            " News :  PSU directors: This is what Gujarat HC said when UPA packed names \n",
            " label: POSITIVE, with score: 0.9838\n",
            " News :  Jammu attack IEDs aimed to hit in single direction; two more drones... \n",
            " label: NEGATIVE, with score: 0.9955\n",
            " News :  Centre rolls out second wave stimulus, expands credit relief for health, tourism \n",
            " label: POSITIVE, with score: 0.9979\n",
            " News :  Mumbai: BMC proposes Rs 21-crore oxygen bottling plant at Mahul to tackle Covid third wave \n",
            " label: NEGATIVE, with score: 0.9737\n",
            " News :  Centre submits allocation plan in Bombay HC: UP to get most doses, followed by Maharashtra \n",
            " label: NEGATIVE, with score: 0.8852\n",
            " News :  Maharashtra should bring resolution against Centre’s farm laws in Monsoon Session: Raju Shetti \n",
            " label: POSITIVE, with score: 0.8437\n",
            " News :  Pune: Congress minister demands inquiry into Ambil Odha anti-encroachment drive \n",
            " label: NEGATIVE, with score: 0.9162\n",
            " News :  Turncoats give BJP jitters ahead of Delhi civic body polls \n",
            " label: NEGATIVE, with score: 0.6544\n",
            " News :  NCP leader Khadse hits out at BJP, says party adopts ‘use and throw’ policy on OBC issues \n",
            " label: NEGATIVE, with score: 0.969\n",
            " News :  FIR against Twitter after child rights body flags porn on platform \n",
            " label: NEGATIVE, with score: 0.995\n",
            " News :  Discovery of a new source of gravitational waves: Collisions between Neutron Star and Black Hole \n",
            " label: POSITIVE, with score: 0.9877\n",
            " News :  Delhi govt launches app to push for Entrepreneurship Mindset Curriculum \n",
            " label: POSITIVE, with score: 0.8638\n",
            " News :  Delhi: Five post-Covid patients report new complication at Ganga Ram Hospital \n",
            " label: NEGATIVE, with score: 0.9026\n",
            " News :  Pune: Auto driver, aide arrested for attacking and robbing passenger \n",
            " label: NEGATIVE, with score: 0.7992\n",
            " News :  With Unique ID for each oxygen cylinder, concentrator, Punjab gears up for 3rd wave \n",
            " label: POSITIVE, with score: 0.9682\n",
            " News :  New research: Chinese vaccine CoronaVac found safe, effective in kids, adolescents \n",
            " label: POSITIVE, with score: 0.9928\n",
            " News :  Explained: America’s fascination with UFOs, and what a govt report has found \n",
            " label: POSITIVE, with score: 0.9138\n",
            " News :  BJP MLAs attend all-party meeting, but Suvendu skips \n",
            " label: NEGATIVE, with score: 0.9986\n",
            " News :  Will ensure CAG-led audit into GTA accounts, says Dhankhar \n",
            " label: POSITIVE, with score: 0.9951\n",
            " News :  Bengal: Debanjan was questioned by police last year over job cheating complaint \n",
            " label: NEGATIVE, with score: 0.9715\n",
            " News :  Illegal vaccination camps: Mamata calls main accused ‘dangerous than terrorist’ \n",
            " label: NEGATIVE, with score: 0.9903\n",
            " News :  Bengal: Covid restrictions to continue till July 15 with some relief \n",
            " label: POSITIVE, with score: 0.9304\n",
            " News :  As Delhi’s schools work towards reopening, focus on processing grief \n",
            " label: POSITIVE, with score: 0.9538\n",
            " News :  2012 ‘encounter’, lack of education infra: Twin tribal protests erupt in Chhattisgarh \n",
            " label: NEGATIVE, with score: 0.9908\n",
            " News :  Explained: How worrying is the Delta Plus variant of Covid-19? \n",
            " label: NEGATIVE, with score: 0.9994\n",
            " News :  India voices concern over recruitment of children for terror \n",
            " label: POSITIVE, with score: 0.8861\n",
            " News :  UP: ‘Abduction to recover loan’ goes awry, 5 held for Agra murder \n",
            " label: NEGATIVE, with score: 0.9992\n",
            " News :  Suspected heart attack: Cops on father’s death after assault by minor’s harassers in Prayagraj \n",
            " label: NEGATIVE, with score: 0.98\n",
            " News :  UP: Three more held for ‘illegal conversions’ \n",
            " label: NEGATIVE, with score: 0.9872\n",
            " News :  Explained: A controversy in Brazil over buying vaccines from Bharat Biotech \n",
            " label: NEGATIVE, with score: 0.9626\n",
            " News :  In Goa, activists, environmentalists, oppose railway move to acquire land for infra \n",
            " label: POSITIVE, with score: 0.9455\n",
            " News :  Olympian Mayookha Johny claims rape accused being protected, Thrissur cops probe afresh \n",
            " label: NEGATIVE, with score: 0.9107\n",
            " News :  Kerala: Rescued 9-month-old tiger cub learns to hunt, one paw at a time \n",
            " label: POSITIVE, with score: 0.9967\n",
            " News :  Maturity & caution \n",
            " label: POSITIVE, with score: 0.9996\n",
            " News :  How we rise \n",
            " label: POSITIVE, with score: 0.9998\n",
            " News :  Sero survey of 2k Mumbai kids finds 51% exposed \n",
            " label: NEGATIVE, with score: 0.9812\n",
            " News :  The real mystery \n",
            " label: POSITIVE, with score: 0.9998\n",
            " News :  Serious oxygen supply issues at Goa hospital in May: HC \n",
            " label: NEGATIVE, with score: 0.9951\n",
            " News :  Over 40k had mucormycosis, half of them were on steroids: Health Ministry \n",
            " label: NEGATIVE, with score: 0.987\n",
            " News :  June 29, 1981, Forty Years Ago: Thaw in border issue \n",
            " label: NEGATIVE, with score: 0.9874\n",
            " News :  Threats to quit, meetings: Jarkiholi tries to make way back into Cabinet \n",
            " label: NEGATIVE, with score: 0.9975\n",
            " News :  Rajasthan: Shortage halts inoculation drive in many places \n",
            " label: NEGATIVE, with score: 0.9991\n",
            " News :  Gujarat: Congress corporator moves court after BJP does away with LoP position in VMC \n",
            " label: NEGATIVE, with score: 0.9722\n",
            " News :  House panel members tell govt: speak in one voice on third wave \n",
            " label: NEGATIVE, with score: 0.9593\n",
            " News :  In India, forest rights means forest conservation \n",
            " label: POSITIVE, with score: 0.9975\n",
            " News :  Sidhu to meet Rahul, Priyanka in Delhi today \n",
            " label: POSITIVE, with score: 0.9995\n",
            " News :  India needs drone detection systems \n",
            " label: NEGATIVE, with score: 0.9656\n",
            " News :  Why Japan’s going ahead with Olympics \n",
            " label: POSITIVE, with score: 0.9932\n",
            " News :  Delhi Confidential: Not A Virtual Journey \n",
            " label: NEGATIVE, with score: 0.9975\n",
            " News :  India must be wary of monopolistic e-retailers \n",
            " label: NEGATIVE, with score: 0.7933\n",
            " News :  Sebi keeps Go Airlines IPO in ‘abeyance’ \n",
            " label: NEGATIVE, with score: 0.9935\n",
            " News :  What India can learn from China’s evolving foreign policy \n",
            " label: POSITIVE, with score: 0.9987\n",
            " News :  After LeT commander’s arrest, 3 CRPF men injured in J&K encounter \n",
            " label: NEGATIVE, with score: 0.9536\n",
            " News :  Stimulus measures: Tenure for smartphone PLI extended by a year \n",
            " label: NEGATIVE, with score: 0.6942\n",
            " News :  Haiti, Malta, Philippines, South Sudan put in FATF ‘increased monitoring’ list \n",
            " label: NEGATIVE, with score: 0.9833\n",
            " News :  Kerala: Social media campaigner for CPM held in gold smuggling case \n",
            " label: NEGATIVE, with score: 0.9494\n",
            " News :  BSP won’t contest zila panchayat chief polls, focus is on Assembly polls: Mayawati \n",
            " label: NEGATIVE, with score: 0.9759\n",
            " News :  14 ‘super-critical’ projects completed last year, Railways aims to finish 27 more by Dec \n",
            " label: NEGATIVE, with score: 0.9553\n",
            " News :  West Bengal: Bar Council chairman seeks removal of Acting CJ \n",
            " label: NEGATIVE, with score: 0.991\n",
            " News :  Tejashwi announces RJD plan to mark Ram Vilas Paswan birth anniversary \n",
            " label: NEGATIVE, with score: 0.835\n",
            " News :  Haryana begins search for its next police chief \n",
            " label: NEGATIVE, with score: 0.9573\n",
            " News :  Environmentalists complain ashram in Tungareshwar Wildlife Sanctuary constructing illegal extensions \n",
            " label: NEGATIVE, with score: 0.9984\n",
            " News :  AAP says BJP’s South civic body leader runs ‘illegally built’ hotel, he denies \n",
            " label: NEGATIVE, with score: 0.9977\n",
            " News :  Bombay HC restrains PMLA court from declaring Mehul Choksi fugitive economic offender for three weeks \n",
            " label: NEGATIVE, with score: 0.9805\n",
            " News :  Mamata says Governor Dhankhar named in scam, he denies \n",
            " label: NEGATIVE, with score: 0.9958\n",
            " News :  Mumbai: Dead patient’s kin abuse, manhandle Sion hospital doctor, two arrested \n",
            " label: NEGATIVE, with score: 0.9638\n",
            " News :  150 acres of land allotted in Noida for UP’s 1st textile park \n",
            " label: POSITIVE, with score: 0.7629\n",
            " News :  Mumbai: Congress seeks probe on BMC claims of cleaning nullahs \n",
            " label: NEGATIVE, with score: 0.975\n",
            " News :  To meet challenges thrown by other states, Maharashtra govt plans to spruce up Film City \n",
            " label: POSITIVE, with score: 0.989\n",
            " News :  Two accused travelled outside country after Hiran’s murder to evade suspicion: NIA to court \n",
            " label: NEGATIVE, with score: 0.9795\n",
            " News :  ‘India, Chile are top targets for apps with fake vaccine promises’ \n",
            " label: NEGATIVE, with score: 0.9965\n",
            " News :  Mumbai: No pre-arrest bail for dentist wanted in 9 illegal Covid vaccination drives \n",
            " label: NEGATIVE, with score: 0.9973\n",
            " News :  Sebi ban on Franklin Templeton floating debt schemes stayed \n",
            " label: NEGATIVE, with score: 0.9782\n",
            " News :  ‘Pani panchayats’ in NE Delhi to collect samples: BJP’s Tiwari \n",
            " label: NEGATIVE, with score: 0.9136\n",
            " News :  Maharashtra home dept to start clearing pending transfers of cops next month \n",
            " label: NEGATIVE, with score: 0.9315\n",
            " News :  Protocol for oxygen management released for all districts in Maharashtra \n",
            " label: POSITIVE, with score: 0.5069\n",
            " News :  Repeal draft Cinematograph Bill: film fraternity writes to I&B ministry \n",
            " label: NEGATIVE, with score: 0.9718\n",
            " News :  Gujarat education dept: Universities told to vaccinate students, staff before exams \n",
            " label: NEGATIVE, with score: 0.98\n",
            " News :  We would again invite catastrophe: Uttarakhand HC stays move to allow Char Dham yatra \n",
            " label: NEGATIVE, with score: 0.933\n",
            " News :  Ahmedabad: 58 bovines rescued, 4 held \n",
            " label: POSITIVE, with score: 0.8869\n",
            " News :  Odisha flags vaccine shortage, urges for urgent supply \n",
            " label: NEGATIVE, with score: 0.9939\n"
          ],
          "name": "stdout"
        }
      ]
    }
  ]
}